{
 "cells": [
  {
   "cell_type": "code",
   "execution_count": 4,
   "id": "e9e1eef7",
   "metadata": {},
   "outputs": [
    {
     "name": "stdout",
     "output_type": "stream",
     "text": [
      "Running simulation 1/10...\n",
      "Imported SurveySimulation (prototype) from EXOSIMS.Prototypes.SurveySimulation\n",
      "Numpy random seed is: 464497548\n",
      "Imported SAG13Universe (implementation) from EXOSIMS.SimulatedUniverse.SAG13Universe\n",
      "Imported TargetList (prototype) from EXOSIMS.Prototypes.TargetList\n",
      "Imported EXOCAT1 (implementation) from EXOSIMS.StarCatalog.EXOCAT1\n",
      "Imported OpticalSystem (prototype) from EXOSIMS.Prototypes.OpticalSystem\n",
      "Imported ZodiacalLight (prototype) from EXOSIMS.Prototypes.ZodiacalLight\n",
      "Imported PostProcessing (prototype) from EXOSIMS.Prototypes.PostProcessing\n",
      "Imported BackgroundSources (prototype) from EXOSIMS.Prototypes.BackgroundSources\n",
      "Imported BrownCompleteness (implementation) from EXOSIMS.Completeness.BrownCompleteness\n",
      "Imported SAG13 (implementation) from EXOSIMS.PlanetPopulation.SAG13\n",
      "Imported PlanetPhysicalModel (prototype) from EXOSIMS.Prototypes.PlanetPhysicalModel\n",
      "Loading cached completeness file from \"/Users/Yael/.EXOSIMS/cache/SAG13PlanetPhysicalModelBrownCompleteness100000000lambert1764173c1bf6081c0804ec491544ef59.comp\".\n",
      "Completeness loaded from cache.\n",
      "Loaded star fluxes values from /Users/Yael/.EXOSIMS/cache/TargetList_EXOCAT1_nStars_2324_mode_7e2f9b91fcda42fc13ff3afa43470f97.star_fluxes\n",
      "Loaded saturation_dMag values from /Users/Yael/.EXOSIMS/cache/TargetList_EXOCAT1_OpticalSystem_ZodiacalLight_vals_6176e8182914702dec80b5aace2bab15_mode_7e2f9b91fcda42fc13ff3afa43470f97.sat_dMag\n",
      "Loaded saturation_comp values from /Users/Yael/.EXOSIMS/cache/TargetList_EXOCAT1_BrownCompleteness_vals_aa2a0fe421f48cf7cc9a2fac85f1a634.sat_comp\n",
      "Loaded intCutoff_dMag values from /Users/Yael/.EXOSIMS/cache/TargetList_EXOCAT1_OpticalSystem_ZodiacalLight_vals_ea068086eceda7d3b494615847b324df_mode_7e2f9b91fcda42fc13ff3afa43470f97.intCutoff_dMag\n"
     ]
    },
    {
     "name": "stderr",
     "output_type": "stream",
     "text": [
      "/Users/Yael/Desktop/EXOSIMS/EXOSIMS/Prototypes/OpticalSystem.py:581: UserWarning: Input FoV (1.0 arcsec) is larger than FoV computed from pixelScale (0.76 arcsec) for instrument spectro. This feels like a mistkae.\n",
      "  warnings.warn(\n"
     ]
    },
    {
     "name": "stdout",
     "output_type": "stream",
     "text": [
      "Loaded intCutoff_comp values from /Users/Yael/.EXOSIMS/cache/TargetList_EXOCAT1_BrownCompleteness_vals_d8eb3646359f9e9419f817aff91ff5f0.intCutoff_comp\n",
      "Generating int_comp values\n",
      "Loading cached dynamic completeness array from \"/Users/Yael/.EXOSIMS/cache/SAG13PlanetPhysicalModelOpticalSystemEXOCAT1TargetListb0cd2fd0d90fb127f5776b699e550191.dcomp\".\n",
      "Dynamic completeness array loaded from cache.\n",
      "Simulation 1 failed: Module name ObservatoryTESS is incorrect.  This is not a valid EXOSIMS class.\n",
      "Running simulation 2/10...\n",
      "Imported SurveySimulation (prototype) from EXOSIMS.Prototypes.SurveySimulation\n",
      "Numpy random seed is: 933722188\n",
      "Imported SAG13Universe (implementation) from EXOSIMS.SimulatedUniverse.SAG13Universe\n",
      "Imported TargetList (prototype) from EXOSIMS.Prototypes.TargetList\n",
      "Imported EXOCAT1 (implementation) from EXOSIMS.StarCatalog.EXOCAT1\n",
      "Imported OpticalSystem (prototype) from EXOSIMS.Prototypes.OpticalSystem\n",
      "Imported ZodiacalLight (prototype) from EXOSIMS.Prototypes.ZodiacalLight\n",
      "Imported PostProcessing (prototype) from EXOSIMS.Prototypes.PostProcessing\n",
      "Imported BackgroundSources (prototype) from EXOSIMS.Prototypes.BackgroundSources\n",
      "Imported BrownCompleteness (implementation) from EXOSIMS.Completeness.BrownCompleteness\n",
      "Imported SAG13 (implementation) from EXOSIMS.PlanetPopulation.SAG13\n",
      "Imported PlanetPhysicalModel (prototype) from EXOSIMS.Prototypes.PlanetPhysicalModel\n",
      "Loading cached completeness file from \"/Users/Yael/.EXOSIMS/cache/SAG13PlanetPhysicalModelBrownCompleteness100000000lambert1764173c1bf6081c0804ec491544ef59.comp\".\n",
      "Completeness loaded from cache.\n",
      "Loaded star fluxes values from /Users/Yael/.EXOSIMS/cache/TargetList_EXOCAT1_nStars_2324_mode_7e2f9b91fcda42fc13ff3afa43470f97.star_fluxes\n",
      "Loaded saturation_dMag values from /Users/Yael/.EXOSIMS/cache/TargetList_EXOCAT1_OpticalSystem_ZodiacalLight_vals_6176e8182914702dec80b5aace2bab15_mode_7e2f9b91fcda42fc13ff3afa43470f97.sat_dMag\n",
      "Loaded saturation_comp values from /Users/Yael/.EXOSIMS/cache/TargetList_EXOCAT1_BrownCompleteness_vals_aa2a0fe421f48cf7cc9a2fac85f1a634.sat_comp\n",
      "Loaded intCutoff_dMag values from /Users/Yael/.EXOSIMS/cache/TargetList_EXOCAT1_OpticalSystem_ZodiacalLight_vals_ea068086eceda7d3b494615847b324df_mode_7e2f9b91fcda42fc13ff3afa43470f97.intCutoff_dMag\n",
      "Loaded intCutoff_comp values from /Users/Yael/.EXOSIMS/cache/TargetList_EXOCAT1_BrownCompleteness_vals_d8eb3646359f9e9419f817aff91ff5f0.intCutoff_comp\n",
      "Generating int_comp values\n"
     ]
    },
    {
     "name": "stderr",
     "output_type": "stream",
     "text": [
      "/Users/Yael/Desktop/EXOSIMS/EXOSIMS/Prototypes/OpticalSystem.py:581: UserWarning: Input FoV (1.0 arcsec) is larger than FoV computed from pixelScale (0.76 arcsec) for instrument spectro. This feels like a mistkae.\n",
      "  warnings.warn(\n"
     ]
    },
    {
     "name": "stdout",
     "output_type": "stream",
     "text": [
      "Loading cached dynamic completeness array from \"/Users/Yael/.EXOSIMS/cache/SAG13PlanetPhysicalModelOpticalSystemEXOCAT1TargetListb0cd2fd0d90fb127f5776b699e550191.dcomp\".\n",
      "Dynamic completeness array loaded from cache.\n",
      "Simulation 2 failed: Module name ObservatoryTESS is incorrect.  This is not a valid EXOSIMS class.\n",
      "Running simulation 3/10...\n",
      "Imported SurveySimulation (prototype) from EXOSIMS.Prototypes.SurveySimulation\n",
      "Numpy random seed is: 822843777\n",
      "Imported SAG13Universe (implementation) from EXOSIMS.SimulatedUniverse.SAG13Universe\n",
      "Imported TargetList (prototype) from EXOSIMS.Prototypes.TargetList\n",
      "Imported EXOCAT1 (implementation) from EXOSIMS.StarCatalog.EXOCAT1\n",
      "Imported OpticalSystem (prototype) from EXOSIMS.Prototypes.OpticalSystem\n",
      "Imported ZodiacalLight (prototype) from EXOSIMS.Prototypes.ZodiacalLight\n",
      "Imported PostProcessing (prototype) from EXOSIMS.Prototypes.PostProcessing\n",
      "Imported BackgroundSources (prototype) from EXOSIMS.Prototypes.BackgroundSources\n",
      "Imported BrownCompleteness (implementation) from EXOSIMS.Completeness.BrownCompleteness\n",
      "Imported SAG13 (implementation) from EXOSIMS.PlanetPopulation.SAG13\n",
      "Imported PlanetPhysicalModel (prototype) from EXOSIMS.Prototypes.PlanetPhysicalModel\n",
      "Loading cached completeness file from \"/Users/Yael/.EXOSIMS/cache/SAG13PlanetPhysicalModelBrownCompleteness100000000lambert1764173c1bf6081c0804ec491544ef59.comp\".\n",
      "Completeness loaded from cache.\n",
      "Loaded star fluxes values from /Users/Yael/.EXOSIMS/cache/TargetList_EXOCAT1_nStars_2324_mode_7e2f9b91fcda42fc13ff3afa43470f97.star_fluxes\n",
      "Loaded saturation_dMag values from /Users/Yael/.EXOSIMS/cache/TargetList_EXOCAT1_OpticalSystem_ZodiacalLight_vals_6176e8182914702dec80b5aace2bab15_mode_7e2f9b91fcda42fc13ff3afa43470f97.sat_dMag\n",
      "Loaded saturation_comp values from /Users/Yael/.EXOSIMS/cache/TargetList_EXOCAT1_BrownCompleteness_vals_aa2a0fe421f48cf7cc9a2fac85f1a634.sat_comp\n",
      "Loaded intCutoff_dMag values from /Users/Yael/.EXOSIMS/cache/TargetList_EXOCAT1_OpticalSystem_ZodiacalLight_vals_ea068086eceda7d3b494615847b324df_mode_7e2f9b91fcda42fc13ff3afa43470f97.intCutoff_dMag\n",
      "Loaded intCutoff_comp values from /Users/Yael/.EXOSIMS/cache/TargetList_EXOCAT1_BrownCompleteness_vals_d8eb3646359f9e9419f817aff91ff5f0.intCutoff_comp\n",
      "Generating int_comp values\n"
     ]
    },
    {
     "name": "stderr",
     "output_type": "stream",
     "text": [
      "/Users/Yael/Desktop/EXOSIMS/EXOSIMS/Prototypes/OpticalSystem.py:581: UserWarning: Input FoV (1.0 arcsec) is larger than FoV computed from pixelScale (0.76 arcsec) for instrument spectro. This feels like a mistkae.\n",
      "  warnings.warn(\n"
     ]
    },
    {
     "name": "stdout",
     "output_type": "stream",
     "text": [
      "Loading cached dynamic completeness array from \"/Users/Yael/.EXOSIMS/cache/SAG13PlanetPhysicalModelOpticalSystemEXOCAT1TargetListb0cd2fd0d90fb127f5776b699e550191.dcomp\".\n",
      "Dynamic completeness array loaded from cache.\n",
      "Simulation 3 failed: Module name ObservatoryTESS is incorrect.  This is not a valid EXOSIMS class.\n",
      "Running simulation 4/10...\n",
      "Imported SurveySimulation (prototype) from EXOSIMS.Prototypes.SurveySimulation\n",
      "Numpy random seed is: 932814471\n",
      "Imported SAG13Universe (implementation) from EXOSIMS.SimulatedUniverse.SAG13Universe\n",
      "Imported TargetList (prototype) from EXOSIMS.Prototypes.TargetList\n",
      "Imported EXOCAT1 (implementation) from EXOSIMS.StarCatalog.EXOCAT1\n",
      "Imported OpticalSystem (prototype) from EXOSIMS.Prototypes.OpticalSystem\n",
      "Imported ZodiacalLight (prototype) from EXOSIMS.Prototypes.ZodiacalLight\n",
      "Imported PostProcessing (prototype) from EXOSIMS.Prototypes.PostProcessing\n",
      "Imported BackgroundSources (prototype) from EXOSIMS.Prototypes.BackgroundSources\n",
      "Imported BrownCompleteness (implementation) from EXOSIMS.Completeness.BrownCompleteness\n",
      "Imported SAG13 (implementation) from EXOSIMS.PlanetPopulation.SAG13\n",
      "Imported PlanetPhysicalModel (prototype) from EXOSIMS.Prototypes.PlanetPhysicalModel\n",
      "Loading cached completeness file from \"/Users/Yael/.EXOSIMS/cache/SAG13PlanetPhysicalModelBrownCompleteness100000000lambert1764173c1bf6081c0804ec491544ef59.comp\".\n",
      "Completeness loaded from cache.\n",
      "Loaded star fluxes values from /Users/Yael/.EXOSIMS/cache/TargetList_EXOCAT1_nStars_2324_mode_7e2f9b91fcda42fc13ff3afa43470f97.star_fluxes\n",
      "Loaded saturation_dMag values from /Users/Yael/.EXOSIMS/cache/TargetList_EXOCAT1_OpticalSystem_ZodiacalLight_vals_6176e8182914702dec80b5aace2bab15_mode_7e2f9b91fcda42fc13ff3afa43470f97.sat_dMag\n",
      "Loaded saturation_comp values from /Users/Yael/.EXOSIMS/cache/TargetList_EXOCAT1_BrownCompleteness_vals_aa2a0fe421f48cf7cc9a2fac85f1a634.sat_comp\n",
      "Loaded intCutoff_dMag values from /Users/Yael/.EXOSIMS/cache/TargetList_EXOCAT1_OpticalSystem_ZodiacalLight_vals_ea068086eceda7d3b494615847b324df_mode_7e2f9b91fcda42fc13ff3afa43470f97.intCutoff_dMag\n",
      "Loaded intCutoff_comp values from /Users/Yael/.EXOSIMS/cache/TargetList_EXOCAT1_BrownCompleteness_vals_d8eb3646359f9e9419f817aff91ff5f0.intCutoff_comp\n",
      "Generating int_comp values\n"
     ]
    },
    {
     "name": "stderr",
     "output_type": "stream",
     "text": [
      "/Users/Yael/Desktop/EXOSIMS/EXOSIMS/Prototypes/OpticalSystem.py:581: UserWarning: Input FoV (1.0 arcsec) is larger than FoV computed from pixelScale (0.76 arcsec) for instrument spectro. This feels like a mistkae.\n",
      "  warnings.warn(\n"
     ]
    },
    {
     "name": "stdout",
     "output_type": "stream",
     "text": [
      "Loading cached dynamic completeness array from \"/Users/Yael/.EXOSIMS/cache/SAG13PlanetPhysicalModelOpticalSystemEXOCAT1TargetListb0cd2fd0d90fb127f5776b699e550191.dcomp\".\n",
      "Dynamic completeness array loaded from cache.\n",
      "Simulation 4 failed: Module name ObservatoryTESS is incorrect.  This is not a valid EXOSIMS class.\n",
      "Running simulation 5/10...\n",
      "Imported SurveySimulation (prototype) from EXOSIMS.Prototypes.SurveySimulation\n",
      "Numpy random seed is: 186701140\n",
      "Imported SAG13Universe (implementation) from EXOSIMS.SimulatedUniverse.SAG13Universe\n",
      "Imported TargetList (prototype) from EXOSIMS.Prototypes.TargetList\n",
      "Imported EXOCAT1 (implementation) from EXOSIMS.StarCatalog.EXOCAT1\n",
      "Imported OpticalSystem (prototype) from EXOSIMS.Prototypes.OpticalSystem\n",
      "Imported ZodiacalLight (prototype) from EXOSIMS.Prototypes.ZodiacalLight\n",
      "Imported PostProcessing (prototype) from EXOSIMS.Prototypes.PostProcessing\n",
      "Imported BackgroundSources (prototype) from EXOSIMS.Prototypes.BackgroundSources\n",
      "Imported BrownCompleteness (implementation) from EXOSIMS.Completeness.BrownCompleteness\n",
      "Imported SAG13 (implementation) from EXOSIMS.PlanetPopulation.SAG13\n",
      "Imported PlanetPhysicalModel (prototype) from EXOSIMS.Prototypes.PlanetPhysicalModel\n",
      "Loading cached completeness file from \"/Users/Yael/.EXOSIMS/cache/SAG13PlanetPhysicalModelBrownCompleteness100000000lambert1764173c1bf6081c0804ec491544ef59.comp\".\n",
      "Completeness loaded from cache.\n",
      "Loaded star fluxes values from /Users/Yael/.EXOSIMS/cache/TargetList_EXOCAT1_nStars_2324_mode_7e2f9b91fcda42fc13ff3afa43470f97.star_fluxes\n",
      "Loaded saturation_dMag values from /Users/Yael/.EXOSIMS/cache/TargetList_EXOCAT1_OpticalSystem_ZodiacalLight_vals_6176e8182914702dec80b5aace2bab15_mode_7e2f9b91fcda42fc13ff3afa43470f97.sat_dMag\n",
      "Loaded saturation_comp values from /Users/Yael/.EXOSIMS/cache/TargetList_EXOCAT1_BrownCompleteness_vals_aa2a0fe421f48cf7cc9a2fac85f1a634.sat_comp\n",
      "Loaded intCutoff_dMag values from /Users/Yael/.EXOSIMS/cache/TargetList_EXOCAT1_OpticalSystem_ZodiacalLight_vals_ea068086eceda7d3b494615847b324df_mode_7e2f9b91fcda42fc13ff3afa43470f97.intCutoff_dMag\n",
      "Loaded intCutoff_comp values from /Users/Yael/.EXOSIMS/cache/TargetList_EXOCAT1_BrownCompleteness_vals_d8eb3646359f9e9419f817aff91ff5f0.intCutoff_comp\n",
      "Generating int_comp values\n"
     ]
    },
    {
     "name": "stderr",
     "output_type": "stream",
     "text": [
      "/Users/Yael/Desktop/EXOSIMS/EXOSIMS/Prototypes/OpticalSystem.py:581: UserWarning: Input FoV (1.0 arcsec) is larger than FoV computed from pixelScale (0.76 arcsec) for instrument spectro. This feels like a mistkae.\n",
      "  warnings.warn(\n"
     ]
    },
    {
     "name": "stdout",
     "output_type": "stream",
     "text": [
      "Loading cached dynamic completeness array from \"/Users/Yael/.EXOSIMS/cache/SAG13PlanetPhysicalModelOpticalSystemEXOCAT1TargetListb0cd2fd0d90fb127f5776b699e550191.dcomp\".\n",
      "Dynamic completeness array loaded from cache.\n",
      "Simulation 5 failed: Module name ObservatoryTESS is incorrect.  This is not a valid EXOSIMS class.\n",
      "Running simulation 6/10...\n",
      "Imported SurveySimulation (prototype) from EXOSIMS.Prototypes.SurveySimulation\n",
      "Numpy random seed is: 950236951\n",
      "Imported SAG13Universe (implementation) from EXOSIMS.SimulatedUniverse.SAG13Universe\n",
      "Imported TargetList (prototype) from EXOSIMS.Prototypes.TargetList\n",
      "Imported EXOCAT1 (implementation) from EXOSIMS.StarCatalog.EXOCAT1\n",
      "Imported OpticalSystem (prototype) from EXOSIMS.Prototypes.OpticalSystem\n",
      "Imported ZodiacalLight (prototype) from EXOSIMS.Prototypes.ZodiacalLight\n",
      "Imported PostProcessing (prototype) from EXOSIMS.Prototypes.PostProcessing\n",
      "Imported BackgroundSources (prototype) from EXOSIMS.Prototypes.BackgroundSources\n",
      "Imported BrownCompleteness (implementation) from EXOSIMS.Completeness.BrownCompleteness\n",
      "Imported SAG13 (implementation) from EXOSIMS.PlanetPopulation.SAG13\n",
      "Imported PlanetPhysicalModel (prototype) from EXOSIMS.Prototypes.PlanetPhysicalModel\n",
      "Loading cached completeness file from \"/Users/Yael/.EXOSIMS/cache/SAG13PlanetPhysicalModelBrownCompleteness100000000lambert1764173c1bf6081c0804ec491544ef59.comp\".\n",
      "Completeness loaded from cache.\n",
      "Loaded star fluxes values from /Users/Yael/.EXOSIMS/cache/TargetList_EXOCAT1_nStars_2324_mode_7e2f9b91fcda42fc13ff3afa43470f97.star_fluxes\n",
      "Loaded saturation_dMag values from /Users/Yael/.EXOSIMS/cache/TargetList_EXOCAT1_OpticalSystem_ZodiacalLight_vals_6176e8182914702dec80b5aace2bab15_mode_7e2f9b91fcda42fc13ff3afa43470f97.sat_dMag\n",
      "Loaded saturation_comp values from /Users/Yael/.EXOSIMS/cache/TargetList_EXOCAT1_BrownCompleteness_vals_aa2a0fe421f48cf7cc9a2fac85f1a634.sat_comp\n",
      "Loaded intCutoff_dMag values from /Users/Yael/.EXOSIMS/cache/TargetList_EXOCAT1_OpticalSystem_ZodiacalLight_vals_ea068086eceda7d3b494615847b324df_mode_7e2f9b91fcda42fc13ff3afa43470f97.intCutoff_dMag\n",
      "Loaded intCutoff_comp values from /Users/Yael/.EXOSIMS/cache/TargetList_EXOCAT1_BrownCompleteness_vals_d8eb3646359f9e9419f817aff91ff5f0.intCutoff_comp\n",
      "Generating int_comp values\n"
     ]
    },
    {
     "name": "stderr",
     "output_type": "stream",
     "text": [
      "/Users/Yael/Desktop/EXOSIMS/EXOSIMS/Prototypes/OpticalSystem.py:581: UserWarning: Input FoV (1.0 arcsec) is larger than FoV computed from pixelScale (0.76 arcsec) for instrument spectro. This feels like a mistkae.\n",
      "  warnings.warn(\n"
     ]
    },
    {
     "name": "stdout",
     "output_type": "stream",
     "text": [
      "Loading cached dynamic completeness array from \"/Users/Yael/.EXOSIMS/cache/SAG13PlanetPhysicalModelOpticalSystemEXOCAT1TargetListb0cd2fd0d90fb127f5776b699e550191.dcomp\".\n",
      "Dynamic completeness array loaded from cache.\n",
      "Simulation 6 failed: Module name ObservatoryTESS is incorrect.  This is not a valid EXOSIMS class.\n",
      "Running simulation 7/10...\n",
      "Imported SurveySimulation (prototype) from EXOSIMS.Prototypes.SurveySimulation\n",
      "Numpy random seed is: 848783383\n",
      "Imported SAG13Universe (implementation) from EXOSIMS.SimulatedUniverse.SAG13Universe\n",
      "Imported TargetList (prototype) from EXOSIMS.Prototypes.TargetList\n",
      "Imported EXOCAT1 (implementation) from EXOSIMS.StarCatalog.EXOCAT1\n",
      "Imported OpticalSystem (prototype) from EXOSIMS.Prototypes.OpticalSystem\n",
      "Imported ZodiacalLight (prototype) from EXOSIMS.Prototypes.ZodiacalLight\n",
      "Imported PostProcessing (prototype) from EXOSIMS.Prototypes.PostProcessing\n",
      "Imported BackgroundSources (prototype) from EXOSIMS.Prototypes.BackgroundSources\n",
      "Imported BrownCompleteness (implementation) from EXOSIMS.Completeness.BrownCompleteness\n",
      "Imported SAG13 (implementation) from EXOSIMS.PlanetPopulation.SAG13\n",
      "Imported PlanetPhysicalModel (prototype) from EXOSIMS.Prototypes.PlanetPhysicalModel\n",
      "Loading cached completeness file from \"/Users/Yael/.EXOSIMS/cache/SAG13PlanetPhysicalModelBrownCompleteness100000000lambert1764173c1bf6081c0804ec491544ef59.comp\".\n",
      "Completeness loaded from cache.\n",
      "Loaded star fluxes values from /Users/Yael/.EXOSIMS/cache/TargetList_EXOCAT1_nStars_2324_mode_7e2f9b91fcda42fc13ff3afa43470f97.star_fluxes\n",
      "Loaded saturation_dMag values from /Users/Yael/.EXOSIMS/cache/TargetList_EXOCAT1_OpticalSystem_ZodiacalLight_vals_6176e8182914702dec80b5aace2bab15_mode_7e2f9b91fcda42fc13ff3afa43470f97.sat_dMag\n",
      "Loaded saturation_comp values from /Users/Yael/.EXOSIMS/cache/TargetList_EXOCAT1_BrownCompleteness_vals_aa2a0fe421f48cf7cc9a2fac85f1a634.sat_comp\n",
      "Loaded intCutoff_dMag values from /Users/Yael/.EXOSIMS/cache/TargetList_EXOCAT1_OpticalSystem_ZodiacalLight_vals_ea068086eceda7d3b494615847b324df_mode_7e2f9b91fcda42fc13ff3afa43470f97.intCutoff_dMag\n",
      "Loaded intCutoff_comp values from /Users/Yael/.EXOSIMS/cache/TargetList_EXOCAT1_BrownCompleteness_vals_d8eb3646359f9e9419f817aff91ff5f0.intCutoff_comp\n",
      "Generating int_comp values\n"
     ]
    },
    {
     "name": "stderr",
     "output_type": "stream",
     "text": [
      "/Users/Yael/Desktop/EXOSIMS/EXOSIMS/Prototypes/OpticalSystem.py:581: UserWarning: Input FoV (1.0 arcsec) is larger than FoV computed from pixelScale (0.76 arcsec) for instrument spectro. This feels like a mistkae.\n",
      "  warnings.warn(\n"
     ]
    },
    {
     "name": "stdout",
     "output_type": "stream",
     "text": [
      "Loading cached dynamic completeness array from \"/Users/Yael/.EXOSIMS/cache/SAG13PlanetPhysicalModelOpticalSystemEXOCAT1TargetListb0cd2fd0d90fb127f5776b699e550191.dcomp\".\n",
      "Dynamic completeness array loaded from cache.\n",
      "Simulation 7 failed: Module name ObservatoryTESS is incorrect.  This is not a valid EXOSIMS class.\n",
      "Running simulation 8/10...\n",
      "Imported SurveySimulation (prototype) from EXOSIMS.Prototypes.SurveySimulation\n",
      "Numpy random seed is: 112317061\n",
      "Imported SAG13Universe (implementation) from EXOSIMS.SimulatedUniverse.SAG13Universe\n",
      "Imported TargetList (prototype) from EXOSIMS.Prototypes.TargetList\n",
      "Imported EXOCAT1 (implementation) from EXOSIMS.StarCatalog.EXOCAT1\n",
      "Imported OpticalSystem (prototype) from EXOSIMS.Prototypes.OpticalSystem\n",
      "Imported ZodiacalLight (prototype) from EXOSIMS.Prototypes.ZodiacalLight\n",
      "Imported PostProcessing (prototype) from EXOSIMS.Prototypes.PostProcessing\n",
      "Imported BackgroundSources (prototype) from EXOSIMS.Prototypes.BackgroundSources\n",
      "Imported BrownCompleteness (implementation) from EXOSIMS.Completeness.BrownCompleteness\n",
      "Imported SAG13 (implementation) from EXOSIMS.PlanetPopulation.SAG13\n",
      "Imported PlanetPhysicalModel (prototype) from EXOSIMS.Prototypes.PlanetPhysicalModel\n",
      "Loading cached completeness file from \"/Users/Yael/.EXOSIMS/cache/SAG13PlanetPhysicalModelBrownCompleteness100000000lambert1764173c1bf6081c0804ec491544ef59.comp\".\n",
      "Completeness loaded from cache.\n",
      "Loaded star fluxes values from /Users/Yael/.EXOSIMS/cache/TargetList_EXOCAT1_nStars_2324_mode_7e2f9b91fcda42fc13ff3afa43470f97.star_fluxes\n",
      "Loaded saturation_dMag values from /Users/Yael/.EXOSIMS/cache/TargetList_EXOCAT1_OpticalSystem_ZodiacalLight_vals_6176e8182914702dec80b5aace2bab15_mode_7e2f9b91fcda42fc13ff3afa43470f97.sat_dMag\n",
      "Loaded saturation_comp values from /Users/Yael/.EXOSIMS/cache/TargetList_EXOCAT1_BrownCompleteness_vals_aa2a0fe421f48cf7cc9a2fac85f1a634.sat_comp\n",
      "Loaded intCutoff_dMag values from /Users/Yael/.EXOSIMS/cache/TargetList_EXOCAT1_OpticalSystem_ZodiacalLight_vals_ea068086eceda7d3b494615847b324df_mode_7e2f9b91fcda42fc13ff3afa43470f97.intCutoff_dMag\n",
      "Loaded intCutoff_comp values from /Users/Yael/.EXOSIMS/cache/TargetList_EXOCAT1_BrownCompleteness_vals_d8eb3646359f9e9419f817aff91ff5f0.intCutoff_comp\n",
      "Generating int_comp values\n"
     ]
    },
    {
     "name": "stderr",
     "output_type": "stream",
     "text": [
      "/Users/Yael/Desktop/EXOSIMS/EXOSIMS/Prototypes/OpticalSystem.py:581: UserWarning: Input FoV (1.0 arcsec) is larger than FoV computed from pixelScale (0.76 arcsec) for instrument spectro. This feels like a mistkae.\n",
      "  warnings.warn(\n"
     ]
    },
    {
     "name": "stdout",
     "output_type": "stream",
     "text": [
      "Loading cached dynamic completeness array from \"/Users/Yael/.EXOSIMS/cache/SAG13PlanetPhysicalModelOpticalSystemEXOCAT1TargetListb0cd2fd0d90fb127f5776b699e550191.dcomp\".\n",
      "Dynamic completeness array loaded from cache.\n",
      "Simulation 8 failed: Module name ObservatoryTESS is incorrect.  This is not a valid EXOSIMS class.\n",
      "Running simulation 9/10...\n",
      "Imported SurveySimulation (prototype) from EXOSIMS.Prototypes.SurveySimulation\n",
      "Numpy random seed is: 823361720\n",
      "Imported SAG13Universe (implementation) from EXOSIMS.SimulatedUniverse.SAG13Universe\n",
      "Imported TargetList (prototype) from EXOSIMS.Prototypes.TargetList\n",
      "Imported EXOCAT1 (implementation) from EXOSIMS.StarCatalog.EXOCAT1\n",
      "Imported OpticalSystem (prototype) from EXOSIMS.Prototypes.OpticalSystem\n",
      "Imported ZodiacalLight (prototype) from EXOSIMS.Prototypes.ZodiacalLight\n",
      "Imported PostProcessing (prototype) from EXOSIMS.Prototypes.PostProcessing\n",
      "Imported BackgroundSources (prototype) from EXOSIMS.Prototypes.BackgroundSources\n",
      "Imported BrownCompleteness (implementation) from EXOSIMS.Completeness.BrownCompleteness\n",
      "Imported SAG13 (implementation) from EXOSIMS.PlanetPopulation.SAG13\n",
      "Imported PlanetPhysicalModel (prototype) from EXOSIMS.Prototypes.PlanetPhysicalModel\n",
      "Loading cached completeness file from \"/Users/Yael/.EXOSIMS/cache/SAG13PlanetPhysicalModelBrownCompleteness100000000lambert1764173c1bf6081c0804ec491544ef59.comp\".\n",
      "Completeness loaded from cache.\n",
      "Loaded star fluxes values from /Users/Yael/.EXOSIMS/cache/TargetList_EXOCAT1_nStars_2324_mode_7e2f9b91fcda42fc13ff3afa43470f97.star_fluxes\n",
      "Loaded saturation_dMag values from /Users/Yael/.EXOSIMS/cache/TargetList_EXOCAT1_OpticalSystem_ZodiacalLight_vals_6176e8182914702dec80b5aace2bab15_mode_7e2f9b91fcda42fc13ff3afa43470f97.sat_dMag\n",
      "Loaded saturation_comp values from /Users/Yael/.EXOSIMS/cache/TargetList_EXOCAT1_BrownCompleteness_vals_aa2a0fe421f48cf7cc9a2fac85f1a634.sat_comp\n",
      "Loaded intCutoff_dMag values from /Users/Yael/.EXOSIMS/cache/TargetList_EXOCAT1_OpticalSystem_ZodiacalLight_vals_ea068086eceda7d3b494615847b324df_mode_7e2f9b91fcda42fc13ff3afa43470f97.intCutoff_dMag\n",
      "Loaded intCutoff_comp values from /Users/Yael/.EXOSIMS/cache/TargetList_EXOCAT1_BrownCompleteness_vals_d8eb3646359f9e9419f817aff91ff5f0.intCutoff_comp\n",
      "Generating int_comp values\n"
     ]
    },
    {
     "name": "stderr",
     "output_type": "stream",
     "text": [
      "/Users/Yael/Desktop/EXOSIMS/EXOSIMS/Prototypes/OpticalSystem.py:581: UserWarning: Input FoV (1.0 arcsec) is larger than FoV computed from pixelScale (0.76 arcsec) for instrument spectro. This feels like a mistkae.\n",
      "  warnings.warn(\n"
     ]
    },
    {
     "name": "stdout",
     "output_type": "stream",
     "text": [
      "Loading cached dynamic completeness array from \"/Users/Yael/.EXOSIMS/cache/SAG13PlanetPhysicalModelOpticalSystemEXOCAT1TargetListb0cd2fd0d90fb127f5776b699e550191.dcomp\".\n",
      "Dynamic completeness array loaded from cache.\n",
      "Simulation 9 failed: Module name ObservatoryTESS is incorrect.  This is not a valid EXOSIMS class.\n",
      "Running simulation 10/10...\n",
      "Imported SurveySimulation (prototype) from EXOSIMS.Prototypes.SurveySimulation\n",
      "Numpy random seed is: 422757425\n",
      "Imported SAG13Universe (implementation) from EXOSIMS.SimulatedUniverse.SAG13Universe\n",
      "Imported TargetList (prototype) from EXOSIMS.Prototypes.TargetList\n",
      "Imported EXOCAT1 (implementation) from EXOSIMS.StarCatalog.EXOCAT1\n",
      "Imported OpticalSystem (prototype) from EXOSIMS.Prototypes.OpticalSystem\n",
      "Imported ZodiacalLight (prototype) from EXOSIMS.Prototypes.ZodiacalLight\n",
      "Imported PostProcessing (prototype) from EXOSIMS.Prototypes.PostProcessing\n",
      "Imported BackgroundSources (prototype) from EXOSIMS.Prototypes.BackgroundSources\n",
      "Imported BrownCompleteness (implementation) from EXOSIMS.Completeness.BrownCompleteness\n",
      "Imported SAG13 (implementation) from EXOSIMS.PlanetPopulation.SAG13\n",
      "Imported PlanetPhysicalModel (prototype) from EXOSIMS.Prototypes.PlanetPhysicalModel\n",
      "Loading cached completeness file from \"/Users/Yael/.EXOSIMS/cache/SAG13PlanetPhysicalModelBrownCompleteness100000000lambert1764173c1bf6081c0804ec491544ef59.comp\".\n",
      "Completeness loaded from cache.\n",
      "Loaded star fluxes values from /Users/Yael/.EXOSIMS/cache/TargetList_EXOCAT1_nStars_2324_mode_7e2f9b91fcda42fc13ff3afa43470f97.star_fluxes\n",
      "Loaded saturation_dMag values from /Users/Yael/.EXOSIMS/cache/TargetList_EXOCAT1_OpticalSystem_ZodiacalLight_vals_6176e8182914702dec80b5aace2bab15_mode_7e2f9b91fcda42fc13ff3afa43470f97.sat_dMag\n",
      "Loaded saturation_comp values from /Users/Yael/.EXOSIMS/cache/TargetList_EXOCAT1_BrownCompleteness_vals_aa2a0fe421f48cf7cc9a2fac85f1a634.sat_comp\n",
      "Loaded intCutoff_dMag values from /Users/Yael/.EXOSIMS/cache/TargetList_EXOCAT1_OpticalSystem_ZodiacalLight_vals_ea068086eceda7d3b494615847b324df_mode_7e2f9b91fcda42fc13ff3afa43470f97.intCutoff_dMag\n",
      "Loaded intCutoff_comp values from /Users/Yael/.EXOSIMS/cache/TargetList_EXOCAT1_BrownCompleteness_vals_d8eb3646359f9e9419f817aff91ff5f0.intCutoff_comp\n",
      "Generating int_comp values\n"
     ]
    },
    {
     "name": "stderr",
     "output_type": "stream",
     "text": [
      "/Users/Yael/Desktop/EXOSIMS/EXOSIMS/Prototypes/OpticalSystem.py:581: UserWarning: Input FoV (1.0 arcsec) is larger than FoV computed from pixelScale (0.76 arcsec) for instrument spectro. This feels like a mistkae.\n",
      "  warnings.warn(\n"
     ]
    },
    {
     "name": "stdout",
     "output_type": "stream",
     "text": [
      "Loading cached dynamic completeness array from \"/Users/Yael/.EXOSIMS/cache/SAG13PlanetPhysicalModelOpticalSystemEXOCAT1TargetListb0cd2fd0d90fb127f5776b699e550191.dcomp\".\n",
      "Dynamic completeness array loaded from cache.\n",
      "Simulation 10 failed: Module name ObservatoryTESS is incorrect.  This is not a valid EXOSIMS class.\n",
      "Yields: []\n",
      "No yield data to plot.\n"
     ]
    }
   ],
   "source": [
    "import matplotlib.pyplot as plt\n",
    "import numpy as np\n",
    "import copy\n",
    "import EXOSIMS.MissionSim\n",
    "import astropy.units as u\n",
    "import scipy\n",
    "from matplotlib import ticker\n",
    "import matplotlib.colors\n",
    "import seaborn as sns\n",
    "import os\n",
    "import warnings\n",
    "plt.rcParams.update({\"figure.max_open_warning\": 0})\n",
    "\n",
    "lam=630*u.nm\n",
    "D=6.5*u.m\n",
    "core_area=np.pi*(lam/D/2)**2*u.radian**2\n",
    "IWA=(2.8*lam/D*u.radian).to(u.arcsecond)\n",
    "OWA=(11*lam/D*u.radian)\n",
    "\n",
    "def run_simulation(scriptfile):\n",
    "    sim = EXOSIMS.MissionSim.MissionSim(scriptfile)\n",
    "    sim.run_sim()\n",
    "    DRM = sim.SurveySimulation.DRM\n",
    "    \n",
    "    detections = 0\n",
    "    for obs in DRM:\n",
    "        if 'det_status' in obs:\n",
    "            detections += sum(obs['det_status'])\n",
    "    return detections\n",
    "\n",
    "def run_ensemble(scriptfile, N=50):\n",
    "    yields = []\n",
    "    for i in range(N):\n",
    "        print(f\"Running simulation {i+1}/{N}...\")\n",
    "        try:\n",
    "            y = run_simulation(scriptfile)\n",
    "            if y >= 0:\n",
    "                yields.append(y)\n",
    "            else:\n",
    "                print(f\"Simulation {i+1} returned invalid yield: {y}\")\n",
    "        except Exception as e:\n",
    "            print(f\"Simulation {i+1} failed: {e}\")\n",
    "    return yields\n",
    "\n",
    "def plot_yield_histogram(yields):\n",
    "    if not yields:\n",
    "        print(\"No yield data to plot.\")\n",
    "        return\n",
    "    bins = range(min(yields), max(yields) + 2)\n",
    "    plt.figure(figsize=(8, 5))\n",
    "    plt.hist(yields, bins=bins, edgecolor='black', align='left')\n",
    "    plt.xlabel(\"Number of Detections\")\n",
    "    plt.ylabel(\"Number of Simulations\")\n",
    "    plt.title(\"Histogram of Exoplanet Detection Yields\")\n",
    "    plt.grid(True)\n",
    "    plt.tight_layout()\n",
    "    plt.show()\n",
    "\n",
    "if __name__ == '__main__':\n",
    "    scriptfile = os.path.join(EXOSIMS.__path__[0], 'Scripts', 'ultramarine.json')\n",
    "    yields = run_ensemble(scriptfile, N=10)\n",
    "    print(\"Yields:\", yields)\n",
    "    plot_yield_histogram(yields)\n",
    "    #test_yields = [5, 3, 4, 5, 6, 5, 3, 7, 4, 5]\n",
    "    #plot_yield_histogram(test_yields)\n",
    "\n"
   ]
  }
 ],
 "metadata": {
  "kernelspec": {
   "display_name": "EXOSIMS",
   "language": "python",
   "name": "python3"
  },
  "language_info": {
   "codemirror_mode": {
    "name": "ipython",
    "version": 3
   },
   "file_extension": ".py",
   "mimetype": "text/x-python",
   "name": "python",
   "nbconvert_exporter": "python",
   "pygments_lexer": "ipython3",
   "version": "3.12.9"
  }
 },
 "nbformat": 4,
 "nbformat_minor": 5
}
